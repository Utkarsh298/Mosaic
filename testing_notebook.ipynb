{
 "cells": [
  {
   "cell_type": "markdown",
   "id": "6062e785",
   "metadata": {},
   "source": [
    "#### Just add path to test-dataset in 2nd cell here and run all cells to get AUC and Accuracy metrics in the last cell"
   ]
  },
  {
   "cell_type": "code",
   "execution_count": 13,
   "id": "23cc43f0",
   "metadata": {},
   "outputs": [],
   "source": [
    "import numpy as np\n",
    "from matplotlib import pyplot as plt\n",
    "import librosa\n",
    "import librosa.display\n",
    "import skimage.io\n",
    "import os\n",
    "import cv2\n",
    "from pydub import AudioSegment\n",
    "import tensorflow as tf\n",
    "from tensorflow import keras\n",
    "from keras.layers import Dense, Conv2D, MaxPool2D, MaxPooling2D, BatchNormalization, Flatten, Dropout, ZeroPadding2D, concatenate, Input\n",
    "from keras.models import Model, Sequential\n",
    "from keras import regularizers"
   ]
  },
  {
   "cell_type": "code",
   "execution_count": 14,
   "id": "aa45b083",
   "metadata": {},
   "outputs": [
    {
     "name": "stdout",
     "output_type": "stream",
     "text": [
      "Enter path to dataset: Mosaic23_PS1_TrainData/ICBHI_final_database\n"
     ]
    }
   ],
   "source": [
    "testDB = input(\"Enter path to dataset: \")"
   ]
  },
  {
   "cell_type": "code",
   "execution_count": 15,
   "id": "ee814d4d",
   "metadata": {},
   "outputs": [],
   "source": [
    "test_files = os.listdir(testDB)"
   ]
  },
  {
   "cell_type": "code",
   "execution_count": 16,
   "id": "06e84633",
   "metadata": {},
   "outputs": [],
   "source": [
    "wav_files = []\n",
    "txt_files = []\n",
    "\n",
    "for trfile in test_files:\n",
    "    if trfile[-3:] == \"txt\":\n",
    "        txt_files.append(trfile)\n",
    "    elif trfile[-3:] == \"wav\":\n",
    "        wav_files.append(trfile)"
   ]
  },
  {
   "cell_type": "code",
   "execution_count": 18,
   "id": "10ed4b76",
   "metadata": {},
   "outputs": [],
   "source": [
    "breathing_cycles = {}\n",
    "crackle_wheeze = {}\n",
    "\n",
    "for txfile in txt_files:\n",
    "    txpath = os.path.join(testDB, txfile)\n",
    "    t = open(txpath, 'r')\n",
    "    content = t.readlines()\n",
    "    breathing_cycles[txfile[:-4]] = []\n",
    "    crackle_wheeze[txfile[:-4]] = []\n",
    "    \n",
    "    for line in content:\n",
    "        data = line[:-1].split(\"\\t\")\n",
    "        breathing_cycles[txfile[:-4]].append((data[0], data[1]))\n",
    "        crackle_wheeze[txfile[:-4]].append((data[2], data[3]))"
   ]
  },
  {
   "cell_type": "code",
   "execution_count": null,
   "id": "07b53bb5",
   "metadata": {},
   "outputs": [],
   "source": [
    "os.mkdir(\"parted_audfiles\")\n",
    "\n",
    "for wfile in wav_files:\n",
    "    wf_path = os.path.join(trainDB, wfile)\n",
    "    bcs = breathing_cycles[wfile[:-4]]\n",
    "    cws = crackle_wheeze[wfile[:-4]]\n",
    "    i = 0\n",
    "    \n",
    "    for bc in bcs:\n",
    "        i += 1\n",
    "        start = float(bc[0]) * 1000\n",
    "        end = float(bc[1]) * 1000\n",
    "        \n",
    "        AS = AudioSegment.from_wav(wf_path)\n",
    "        AS = AS[start: end]\n",
    "        AS.export(\"parted_audfiles/\" + wfile[:-4] + \"{}\".format(i) + \".wav\", format = \"wav\")"
   ]
  },
  {
   "cell_type": "code",
   "execution_count": 19,
   "id": "77de42d2",
   "metadata": {},
   "outputs": [],
   "source": [
    "part_wav_files = os.listdir(\"parted_audfiles\")"
   ]
  },
  {
   "cell_type": "code",
   "execution_count": 21,
   "id": "7c5497a8",
   "metadata": {},
   "outputs": [],
   "source": [
    "extra_feats = {}\n",
    "cls = {'Ar': 0, 'Tc': 1, 'Al': 2, 'Pl': 3, 'Pr': 4, 'Ll': 5, 'Lr': 6}\n",
    "re = {'LittC2SE': 0, 'Meditron': 1, 'Litt3200': 2, 'AKGC417L': 3}\n",
    "\n",
    "for pwfile in part_wav_files:\n",
    "    pwpath = os.path.join(testDB, pwfile)\n",
    "    extra_feats[pwfile] = []\n",
    "    \n",
    "    extra_feats[pwfile].extend([cls[pwfile[8: 10]], re[pwfile[14: 22]]])"
   ]
  },
  {
   "cell_type": "code",
   "execution_count": 40,
   "id": "fa667b06",
   "metadata": {},
   "outputs": [],
   "source": [
    "hard_feats = list(extra_feats.values())"
   ]
  },
  {
   "cell_type": "code",
   "execution_count": null,
   "id": "eb50a68f",
   "metadata": {},
   "outputs": [],
   "source": [
    "# making the spectrograms of the parted audiofiles\n",
    "os.mkdir(\"parted_spectrograms\")\n",
    "\n",
    "def scale_minmax(X, min=0.0, max=1.0):\n",
    "    X_std = (X - X.min()) / (X.max() - X.min())\n",
    "    X_scaled = X_std * (max - min) + min\n",
    "    return X_scaled\n",
    "\n",
    "spectrograms = []\n",
    "srs = []\n",
    "\n",
    "for pwfile in part_wav_files:\n",
    "    pwf_path = os.path.join(\"parted_audfiles\", pwfile)\n",
    "    aud, sr = librosa.load(pwf_path)\n",
    "    \n",
    "    S = librosa.feature.melspectrogram(y=aud, sr=sr, n_mels=128, fmax=8000, hop_length=512)\n",
    "    \n",
    "    fig, ax = plt.subplots()\n",
    "    S_dB = librosa.power_to_db(S, ref=np.max)\n",
    "    S_dB = scale_minmax(S_dB, 0, 255).astype(np.uint8)\n",
    "    S_dB = np.flip(S_dB, axis = 0)\n",
    "    S_dB = 255 - S_dB\n",
    "    S_dB = cv2.resize(S_dB, (128, 128), interpolation = cv2.INTER_CUBIC)\n",
    "\n",
    "    skimage.io.imsave(\"parted_spectrograms/\" + pwfile[:-4] + \"spec.png\", S_dB)"
   ]
  },
  {
   "cell_type": "code",
   "execution_count": 23,
   "id": "4e13c581",
   "metadata": {},
   "outputs": [],
   "source": [
    "pspecs = os.listdir(\"parted_spectrograms\")"
   ]
  },
  {
   "cell_type": "code",
   "execution_count": 24,
   "id": "13b48d3e",
   "metadata": {},
   "outputs": [],
   "source": [
    "X_specs = []\n",
    "Y_labels = []\n",
    "\n",
    "for pspec in pspecs:\n",
    "    pspec_img = cv2.imread(os.path.join(\"parted_spectrograms\", pspec))\n",
    "    X_specs.append(pspec_img)\n",
    "\n",
    "for sfile in wav_files:\n",
    "    cws = crackle_wheeze[sfile[:-4]]\n",
    "    for cw in cws:\n",
    "        Y_labels.append(np.array(cw).astype(\"float32\"))"
   ]
  },
  {
   "cell_type": "code",
   "execution_count": 25,
   "id": "851c4e5a",
   "metadata": {},
   "outputs": [],
   "source": [
    "# Normalizing the data\n",
    "for i in range(len(X_specs)):\n",
    "    X_specs[i] = X_specs[i] / 255.0\n",
    "    X_specs[i] = X_specs[i].reshape(X_specs[i].shape[0:3])\n",
    "    X_specs[i] = np.array(X_specs[i].astype(\"float32\"))\n",
    "    \n",
    "    Y_labels[i] = Y_labels[i].reshape(Y_labels[i].shape[0: 2])"
   ]
  },
  {
   "cell_type": "code",
   "execution_count": 41,
   "id": "dfbb491f",
   "metadata": {},
   "outputs": [],
   "source": [
    "X_test = list(zip(X_specs, hard_feats))"
   ]
  },
  {
   "cell_type": "code",
   "execution_count": 69,
   "id": "965b3dc4",
   "metadata": {},
   "outputs": [],
   "source": [
    "test_hard = []\n",
    "test_x = []\n",
    "\n",
    "for e in X_test:\n",
    "    test_hard.append(e[1])\n",
    "    test_x.append(e[0])\n",
    "    \n",
    "test_x = np.array(test_x)\n",
    "test_hard = np.array(test_hard)"
   ]
  },
  {
   "cell_type": "code",
   "execution_count": 44,
   "id": "bfbea484",
   "metadata": {},
   "outputs": [],
   "source": [
    "Y_test = np.array(Y_labels)"
   ]
  },
  {
   "cell_type": "code",
   "execution_count": 81,
   "id": "4cf0f43c",
   "metadata": {},
   "outputs": [],
   "source": [
    "def conv_block():\n",
    "    return keras.Sequential([\n",
    "        ZeroPadding2D(padding = (1, 1)),\n",
    "        Conv2D(64, 3, padding = \"valid\", activation = \"ReLU\"),\n",
    "        BatchNormalization(axis = -1),\n",
    "        MaxPool2D(pool_size = 2)\n",
    "    ])\n",
    "\n",
    "inputs = Input(shape = (128, 128, 3))\n",
    "hard_feats = Input(shape = (1, ))\n",
    "x = conv_block()(inputs)\n",
    "x = conv_block()(x)\n",
    "x = conv_block()(x)\n",
    "x = conv_block()(x)\n",
    "x = Flatten()(x)\n",
    "x = Dense(32)(x)\n",
    "x = concatenate([x, hard_feats])\n",
    "x = BatchNormalization(axis = -1)(x)\n",
    "x = Dense(2, activation = \"sigmoid\")(x)\n",
    "\n",
    "model = Model(inputs = [inputs, hard_feats], outputs = [x])"
   ]
  },
  {
   "cell_type": "code",
   "execution_count": 82,
   "id": "e71dbd63",
   "metadata": {},
   "outputs": [],
   "source": [
    "optimizer = keras.optimizers.SGD(lr = 0.01)"
   ]
  },
  {
   "cell_type": "code",
   "execution_count": 83,
   "id": "a6c75bdb",
   "metadata": {},
   "outputs": [],
   "source": [
    "test_model.compile(optimizer = optimizer, loss = \"BinaryCrossentropy\", metrics = [\"AUC\", \"accuracy\"])"
   ]
  },
  {
   "cell_type": "markdown",
   "id": "bf8670b4",
   "metadata": {},
   "source": [
    "#### Loading model parameters from model file"
   ]
  },
  {
   "cell_type": "code",
   "execution_count": 84,
   "id": "e1425691",
   "metadata": {},
   "outputs": [
    {
     "data": {
      "text/plain": [
       "<tensorflow.python.checkpoint.checkpoint.CheckpointLoadStatus at 0x1aef9667b50>"
      ]
     },
     "execution_count": 84,
     "metadata": {},
     "output_type": "execute_result"
    }
   ],
   "source": [
    "test_model.load_weights(\"auc74ckpt\")"
   ]
  },
  {
   "cell_type": "code",
   "execution_count": 101,
   "id": "ffff0ddb",
   "metadata": {},
   "outputs": [],
   "source": [
    "# evaluating on basis of both accuracy and Area Under ROC Curve\n",
    "\n",
    "def get_test_metrics():\n",
    "    obtained_metrics = test_model.evaluate([test_x, test_hard[:, 0]], np.array(Y_test), batch_size = 32, verbose = 0)\n",
    "\n",
    "    print(\"Obtained Metrics are:\")\n",
    "    print(\"BinaryCrossentropy Loss = \", obtained_metrics[0])\n",
    "    print(\"Area under ROC curve = \", obtained_metrics[1])\n",
    "    print(\"Accuracy = \", obtained_metrics[2] * 100, \"%\")"
   ]
  },
  {
   "cell_type": "code",
   "execution_count": 102,
   "id": "eec81494",
   "metadata": {},
   "outputs": [
    {
     "name": "stdout",
     "output_type": "stream",
     "text": [
      "Obtained Metrics are:\n",
      "BinaryCrossentropy Loss =  0.5059808492660522\n",
      "Area under ROC curve =  0.7714003920555115\n",
      "Accuracy =  82.79481530189514 %\n"
     ]
    }
   ],
   "source": [
    "get_test_metrics()"
   ]
  },
  {
   "cell_type": "code",
   "execution_count": null,
   "id": "a422daa4",
   "metadata": {},
   "outputs": [],
   "source": []
  }
 ],
 "metadata": {
  "kernelspec": {
   "display_name": "Python 3 (ipykernel)",
   "language": "python",
   "name": "python3"
  },
  "language_info": {
   "codemirror_mode": {
    "name": "ipython",
    "version": 3
   },
   "file_extension": ".py",
   "mimetype": "text/x-python",
   "name": "python",
   "nbconvert_exporter": "python",
   "pygments_lexer": "ipython3",
   "version": "3.9.13"
  }
 },
 "nbformat": 4,
 "nbformat_minor": 5
}
